{
 "cells": [
  {
   "cell_type": "code",
   "execution_count": 1,
   "metadata": {},
   "outputs": [],
   "source": [
    "import numpy as np\n",
    "from cython_bbox import bbox_overlaps as bbox_ious\n",
    "\n",
    "def ious(atlbrs, btlbrs):\n",
    "    ious = np.zeros((len(atlbrs), len(btlbrs)), dtype=np.float64)\n",
    "    if ious.size == 0:\n",
    "        return ious\n",
    "\n",
    "    ious = bbox_ious(\n",
    "        np.ascontiguousarray(atlbrs, dtype=np.float64), \n",
    "        np.ascontiguousarray(btlbrs, dtype=np.float64)  \n",
    "    )\n",
    "\n",
    "    print(\"this is ious\", ious)\n",
    "    return ious\n",
    "\n",
    "# Debug mode\n",
    "def diou(atlbrs, btlbrs):\n",
    "    \"\"\"\n",
    "    Compute DIOU between two sets of boxes\n",
    "    :type atlbrs: list[tlbr] | np.ndarray\n",
    "    :type btlbrs: list[tlbr] | np.ndarray\n",
    "    :rtype: np.ndarray\n",
    "    \"\"\"\n",
    "    atlbrs = np.asarray(atlbrs, dtype=np.float64)\n",
    "    btlbrs = np.asarray(btlbrs, dtype=np.float64)\n",
    "    \n",
    "    _ious = bbox_ious(\n",
    "        np.ascontiguousarray(atlbrs, dtype=np.float64),\n",
    "        np.ascontiguousarray(btlbrs, dtype=np.float64)\n",
    "    )\n",
    "    \n",
    "    dious = np.zeros((len(atlbrs), len(btlbrs)), dtype=np.float64)\n",
    "    \n",
    "    atlbrs_centers = (atlbrs[:, :2] + atlbrs[:, 2:]) / 2  \n",
    "\n",
    "    print(\"acenter:\", atlbrs_centers)\n",
    "    \n",
    "    btlbrs_centers = (btlbrs[:, :2] + btlbrs[:, 2:]) / 2  \n",
    "\n",
    "    print(\"bcenter:\", btlbrs_centers)\n",
    "\n",
    "    for i in range(len(atlbrs)):\n",
    "        for j in range(len(btlbrs)):\n",
    "            center_dist = np.sqrt(np.sum((atlbrs_centers[i] - btlbrs_centers[j]) ** 2))\n",
    "            print(\"center_dist:\", center_dist)\n",
    "            enclosing_mins = np.minimum(atlbrs[i, :2], btlbrs[j, :2])\n",
    "            print(\"dig_min:\", enclosing_mins)\n",
    "            enclosing_maxs = np.maximum(atlbrs[i, 2:], btlbrs[j, 2:])\n",
    "            print(\"dig_max\", enclosing_maxs)\n",
    "            \n",
    "            enclosing_diag = np.sqrt(np.sum((enclosing_maxs - enclosing_mins) ** 2))\n",
    "\n",
    "            print(\"dig_dis:\", enclosing_diag)\n",
    "\n",
    "            if enclosing_diag > 0: \n",
    "                dious[i, j] = _ious[i, j] - (center_dist ** 2) / (enclosing_diag ** 2)\n",
    "            else:\n",
    "                dious[i, j] = _ious[i, j]\n",
    "    \n",
    "    return dious "
   ]
  },
  {
   "cell_type": "code",
   "execution_count": 2,
   "metadata": {},
   "outputs": [
    {
     "name": "stdout",
     "output_type": "stream",
     "text": [
      "this is ious [[0.36]]\n",
      "acenter: [[2. 2.]]\n",
      "bcenter: [[1. 1.]]\n",
      "center_dist: 1.4142135623730951\n",
      "dig_min: [0. 0.]\n",
      "dig_max [4. 4.]\n",
      "dig_dis: 5.656854249492381\n"
     ]
    }
   ],
   "source": [
    "import numpy as np\n",
    "\n",
    "atlbrs = np.array([\n",
    "    [0, 0, 39, 39]\n",
    "], dtype=np.float64)\n",
    "\n",
    "btlbrs = np.array([\n",
    "    [0, 0, 19, 19]\n",
    "], dtype=np.float64)\n",
    "\n",
    "atlbrs = np.array([\n",
    "    [0, 0, 4, 4]\n",
    "], dtype=np.float64)\n",
    "\n",
    "btlbrs = np.array([\n",
    "    [0, 0, 2, 2]\n",
    "], dtype=np.float64)\n",
    "\n",
    "iou_values = ious(atlbrs, btlbrs)\n",
    "diou_values = diou(atlbrs, btlbrs)\n",
    "\n"
   ]
  },
  {
   "cell_type": "code",
   "execution_count": 3,
   "metadata": {},
   "outputs": [
    {
     "data": {
      "image/png": "[encoded data removed]",
      "text/plain": [
       "<Figure size 600x600 with 1 Axes>"
      ]
     },
     "metadata": {},
     "output_type": "display_data"
    },
    {
     "name": "stdout",
     "output_type": "stream",
     "text": [
      "this is ious [[0.36]]\n",
      "acenter: [[2. 2.]]\n",
      "bcenter: [[1. 1.]]\n",
      "center_dist: 1.4142135623730951\n",
      "dig_min: [0. 0.]\n",
      "dig_max [4. 4.]\n",
      "dig_dis: 5.656854249492381\n"
     ]
    }
   ],
   "source": [
    "import numpy as np\n",
    "import matplotlib.pyplot as plt\n",
    "import matplotlib.patches as patches\n",
    "\n",
    "fig, ax = plt.subplots(1, figsize=(6, 6))\n",
    "\n",
    "for i, box in enumerate(atlbrs, start=1):\n",
    "    x_min, y_min, x_max, y_max = box\n",
    "    width = x_max - x_min\n",
    "    height = y_max - y_min\n",
    "    \n",
    "    rect = patches.Rectangle((x_min, y_min), width, height,\n",
    "                             linewidth=2, edgecolor='blue', facecolor='none')\n",
    "    ax.add_patch(rect)\n",
    "    ax.text(x_min, y_min - 5, f\"AT{i}\", color='blue', fontsize=10)\n",
    "\n",
    "for j, box in enumerate(btlbrs, start=1):\n",
    "    x_min, y_min, x_max, y_max = box\n",
    "    width = x_max - x_min\n",
    "    height = y_max - y_min\n",
    "    \n",
    "    rect = patches.Rectangle((x_min, y_min), width, height,\n",
    "                             linewidth=2, edgecolor='red', facecolor='none')\n",
    "    ax.add_patch(rect)\n",
    "    ax.text(x_min, y_min - 5, f\"BT{j}\", color='red', fontsize=10)\n",
    "\n",
    "# Adjust plot limits so everything is visible\n",
    "all_x = np.concatenate([atlbrs[:, [0, 2]].flatten(), btlbrs[:, [0, 2]].flatten()])\n",
    "all_y = np.concatenate([atlbrs[:, [1, 3]].flatten(), btlbrs[:, [1, 3]].flatten()])\n",
    "ax.set_xlim(all_x.min() - 10, all_x.max() + 10)\n",
    "ax.set_ylim(all_y.min() - 10, all_y.max() + 10)\n",
    "ax.set_aspect('equal', adjustable='box')\n",
    "ax.set_title(\"Visualization of Bounding Boxes\")\n",
    "\n",
    "plt.show()\n",
    "\n",
    "\n",
    "iou_values = ious(atlbrs, btlbrs)\n",
    "diou_values = diou(atlbrs, btlbrs)\n"
   ]
  }
 ],
 "metadata": {
  "kernelspec": {
   "display_name": "dlproject",
   "language": "python",
   "name": "python3"
  },
  "language_info": {
   "codemirror_mode": {
    "name": "ipython",
    "version": 3
   },
   "file_extension": ".py",
   "mimetype": "text/x-python",
   "name": "python",
   "nbconvert_exporter": "python",
   "pygments_lexer": "ipython3",
   "version": "3.9.16"
  }
 },
 "nbformat": 4,
 "nbformat_minor": 2
}
